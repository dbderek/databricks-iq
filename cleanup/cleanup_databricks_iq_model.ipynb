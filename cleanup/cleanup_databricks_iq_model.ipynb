{
 "cells": [
  {
   "cell_type": "code",
   "execution_count": 0,
   "metadata": {
    "application/vnd.databricks.v1+cell": {
     "cellMetadata": {
      "byteLimit": 2048000,
      "rowLimit": 10000
     },
     "inputWidgets": {},
     "nuid": "4de815b9-efad-4eb2-b1c4-a7e224f1a2d9",
     "showTitle": false,
     "tableResultSettingsMap": {},
     "title": ""
    }
   },
   "outputs": [],
   "source": [
    "# dbutils.widgets.text('model_name', 'databricksiq.main.databricks-iq-agent', 'Model Name')\n",
    "# dbutils.widgets.text('model_name_feedback', 'databricksiq.main.feedback', 'Feedback Model Name')\n",
    "# dbutils.widgets.text('endpoint_name', 'dbx-iq-agent-endpoint', 'Endpoint Name')"
   ]
  },
  {
   "cell_type": "code",
   "execution_count": 0,
   "metadata": {
    "application/vnd.databricks.v1+cell": {
     "cellMetadata": {
      "byteLimit": 2048000,
      "rowLimit": 10000
     },
     "inputWidgets": {},
     "nuid": "10fa0945-cc8d-4eb0-b34b-6c81f9972a2d",
     "showTitle": false,
     "tableResultSettingsMap": {},
     "title": ""
    }
   },
   "outputs": [],
   "source": [
    "model_name = dbutils.widgets.get('model_name')\n",
    "model_name_feedback = dbutils.widgets.get('model_name_feedback')\n",
    "endpoint_name = dbutils.widgets.get('endpoint_name')"
   ]
  },
  {
   "cell_type": "code",
   "execution_count": 0,
   "metadata": {
    "application/vnd.databricks.v1+cell": {
     "cellMetadata": {
      "byteLimit": 2048000,
      "rowLimit": 10000
     },
     "inputWidgets": {},
     "nuid": "98ce6c08-c230-4b69-b7b9-e18de2344c61",
     "showTitle": false,
     "tableResultSettingsMap": {},
     "title": ""
    }
   },
   "outputs": [],
   "source": [
    "import os\n",
    "from databricks.sdk import WorkspaceClient\n",
    "import mlflow\n",
    "from mlflow.tracking import MlflowClient\n",
    "import requests\n",
    "\n",
    "workspace_client = WorkspaceClient()\n",
    "workspace_host = workspace_client.config.host\n",
    "\n",
    "# Set MLflow to use Unity Catalog\n",
    "\n",
    "mlflow.set_registry_uri(\"databricks-uc\")\n",
    "\n",
    "model_name = model_name\n",
    "model_name_feedback = model_name_feedback\n",
    "\n",
    "# Delete the registered model from Unity Catalog\n",
    "client = MlflowClient()\n",
    "for model in [model_name_feedback, model_name]:\n",
    "  try:\n",
    "    client.delete_registered_model(name=model_name)\n",
    "    print(f\"Deleted model {model}\")\n",
    "  except Exception as e:\n",
    "    print(f\"Error deleting model {model}: {e}\")\n",
    "\n",
    "# Delete the associated model serving endpoint\n",
    "# Requires Databricks personal access token and workspace URL\n",
    "DATABRICKS_HOST = workspace_host\n",
    "DATABRICKS_TOKEN = os.environ.get(\"DATABRICKS_TOKEN\")\n",
    "endpoint_name = endpoint_name\n",
    "\n",
    "try:\n",
    "  workspace_client.serving_endpoints.delete(name=endpoint_name)\n",
    "  print(f\"Deleted endpoint {endpoint_name}\")\n",
    "except Exception as e:\n",
    "  print(f\"Error deleting endpoint {endpoint_name}: {e}\")"
   ]
  }
 ],
 "metadata": {
  "application/vnd.databricks.v1+notebook": {
   "computePreferences": {
    "hardware": {
     "accelerator": null,
     "gpuPoolId": null,
     "memory": null
    }
   },
   "dashboards": [],
   "environmentMetadata": {
    "base_environment": "",
    "environment_version": "3"
   },
   "inputWidgetPreferences": null,
   "language": "python",
   "notebookMetadata": {
    "pythonIndentUnit": 2
   },
   "notebookName": "cleanup_databricks_iq_model",
   "widgets": {
    "endpoint_name": {
     "currentValue": "dbx-iq-agent-endpoint",
     "nuid": "25232e8b-4787-4f4e-aeb3-f3c096b738f2",
     "typedWidgetInfo": {
      "autoCreated": false,
      "defaultValue": "dbx-iq-agent-endpoint",
      "label": "Endpoint Name",
      "name": "endpoint_name",
      "options": {
       "widgetDisplayType": "Text",
       "validationRegex": null
      },
      "parameterDataType": "String"
     },
     "widgetInfo": {
      "widgetType": "text",
      "defaultValue": "dbx-iq-agent-endpoint",
      "label": "Endpoint Name",
      "name": "endpoint_name",
      "options": {
       "widgetType": "text",
       "autoCreated": false,
       "validationRegex": null
      }
     }
    },
    "model_name": {
     "currentValue": "databricksiq.main.databricks-iq-agent",
     "nuid": "7b02c367-139e-4d80-9315-f5c26ac5a44f",
     "typedWidgetInfo": {
      "autoCreated": false,
      "defaultValue": "databricksiq.main.databricks-iq-agent",
      "label": "Model Name",
      "name": "model_name",
      "options": {
       "widgetDisplayType": "Text",
       "validationRegex": null
      },
      "parameterDataType": "String"
     },
     "widgetInfo": {
      "widgetType": "text",
      "defaultValue": "databricksiq.main.databricks-iq-agent",
      "label": "Model Name",
      "name": "model_name",
      "options": {
       "widgetType": "text",
       "autoCreated": null,
       "validationRegex": null
      }
     }
    },
    "model_name_feedback": {
     "currentValue": "databricksiq.main.feedback",
     "nuid": "4301c5a7-b1be-4a40-b3da-0ff0dec37103",
     "typedWidgetInfo": {
      "autoCreated": false,
      "defaultValue": "databricksiq.main.feedback",
      "label": "Feedback Model Name",
      "name": "model_name_feedback",
      "options": {
       "widgetDisplayType": "Text",
       "validationRegex": null
      },
      "parameterDataType": "String"
     },
     "widgetInfo": {
      "widgetType": "text",
      "defaultValue": "databricksiq.main.feedback",
      "label": "Feedback Model Name",
      "name": "model_name_feedback",
      "options": {
       "widgetType": "text",
       "autoCreated": null,
       "validationRegex": null
      }
     }
    }
   }
  },
  "language_info": {
   "name": "python"
  }
 },
 "nbformat": 4,
 "nbformat_minor": 0
}
