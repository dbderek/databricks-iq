{
 "cells": [
  {
   "cell_type": "markdown",
   "metadata": {
    "application/vnd.databricks.v1+cell": {
     "cellMetadata": {},
     "inputWidgets": {},
     "nuid": "b0c213cf-c174-4671-8fb3-412bda47aa55",
     "showTitle": false,
     "tableResultSettingsMap": {},
     "title": ""
    }
   },
   "source": [
    "### Serverless Monitoring and Budget Alert Queries\n",
    "#### Based on Databricks documentation for tracking serverless spend"
   ]
  },
  {
   "cell_type": "code",
   "execution_count": 0,
   "metadata": {
    "application/vnd.databricks.v1+cell": {
     "cellMetadata": {
      "byteLimit": 2048000,
      "implicitDf": true,
      "rowLimit": 10000
     },
     "inputWidgets": {},
     "nuid": "9238b526-7183-4b9b-948d-98f0141cce17",
     "showTitle": false,
     "tableResultSettingsMap": {},
     "title": ""
    }
   },
   "outputs": [],
   "source": [
    "%sql\n",
    "-- Alert: Workspace spend exceeding threshold in last 30 days\n",
    "CREATE MATERIALIZED VIEW workspace_spend_alerts AS\n",
    "SELECT\n",
    "   usage_data.workspace_id,\n",
    "   SUM(usage_data.usage_quantity * pricing_data.pricing.default) as list_cost,\n",
    "   SUM(usage_data.usage_quantity * pricing_data.pricing.effective_list.default) as effective_cost,\n",
    "   SUM(CASE WHEN usage_data.usage_date >= CURRENT_DATE() - INTERVAL 7 DAYS THEN usage_data.usage_quantity * pricing_data.pricing.default ELSE 0 END) as t7d_list_cost,\n",
    "   SUM(CASE WHEN usage_data.usage_date >= CURRENT_DATE() - INTERVAL 7 DAYS THEN usage_data.usage_quantity * pricing_data.pricing.effective_list.default ELSE 0 END) as t7d_effective_cost,\n",
    "   SUM(CASE WHEN usage_data.usage_date >= CURRENT_DATE() - INTERVAL 14 DAYS AND usage_data.usage_date < CURRENT_DATE() - INTERVAL 7 DAYS THEN usage_data.usage_quantity * pricing_data.pricing.default ELSE 0 END) as t14d_list_cost,\n",
    "   SUM(CASE WHEN usage_data.usage_date >= CURRENT_DATE() - INTERVAL 14 DAYS AND usage_data.usage_date < CURRENT_DATE() - INTERVAL 7 DAYS THEN usage_data.usage_quantity * pricing_data.pricing.effective_list.default ELSE 0 END) as t14d_effective_cost\n",
    "FROM system.billing.usage usage_data\n",
    "INNER JOIN system.billing.list_prices pricing_data on\n",
    "   usage_data.cloud = pricing_data.cloud and\n",
    "   usage_data.sku_name = pricing_data.sku_name and\n",
    "   usage_data.usage_start_time >= pricing_data.price_start_time and\n",
    "   (usage_data.usage_end_time <= pricing_data.price_end_time or pricing_data.price_end_time is null)\n",
    "WHERE\n",
    "   usage_data.sku_name LIKE '%SERVERLESS%'\n",
    "   AND usage_data.billing_origin_product IN (\"JOBS\", \"INTERACTIVE\")\n",
    "   AND usage_data.usage_date >= CURRENT_DATE() - INTERVAL 30 DAYS\n",
    "GROUP BY\n",
    "   usage_data.workspace_id\n",
    "ORDER BY\n",
    "   effective_cost DESC;"
   ]
  },
  {
   "cell_type": "code",
   "execution_count": 0,
   "metadata": {
    "application/vnd.databricks.v1+cell": {
     "cellMetadata": {
      "byteLimit": 2048000,
      "implicitDf": true,
      "rowLimit": 10000
     },
     "inputWidgets": {},
     "nuid": "e7d67b56-6398-4359-b4e8-133260c7e20f",
     "showTitle": false,
     "tableResultSettingsMap": {},
     "title": ""
    }
   },
   "outputs": [],
   "source": [
    "%sql\n",
    "-- Alert: User spend exceeding threshold in last 30 days\n",
    "CREATE MATERIALIZED VIEW user_spend_alerts AS\n",
    "SELECT\n",
    "   usage_data.identity_metadata.run_as,\n",
    "   SUM(usage_data.usage_quantity * pricing_data.pricing.default) as list_cost,\n",
    "   SUM(usage_data.usage_quantity * pricing_data.pricing.effective_list.default) as effective_cost,\n",
    "   SUM(CASE WHEN usage_data.usage_date >= CURRENT_DATE() - INTERVAL 7 DAYS THEN usage_data.usage_quantity * pricing_data.pricing.default ELSE 0 END) as t7d_list_cost,\n",
    "   SUM(CASE WHEN usage_data.usage_date >= CURRENT_DATE() - INTERVAL 7 DAYS THEN usage_data.usage_quantity * pricing_data.pricing.effective_list.default ELSE 0 END) as t7d_effective_cost,\n",
    "   SUM(CASE WHEN usage_data.usage_date >= CURRENT_DATE() - INTERVAL 14 DAYS AND usage_data.usage_date < CURRENT_DATE() - INTERVAL 7 DAYS THEN usage_data.usage_quantity * pricing_data.pricing.default ELSE 0 END) as t14d_list_cost,\n",
    "   SUM(CASE WHEN usage_data.usage_date >= CURRENT_DATE() - INTERVAL 14 DAYS AND usage_data.usage_date < CURRENT_DATE() - INTERVAL 7 DAYS THEN usage_data.usage_quantity * pricing_data.pricing.effective_list.default ELSE 0 END) as t14d_effective_cost\n",
    "FROM system.billing.usage usage_data\n",
    "INNER JOIN system.billing.list_prices pricing_data on\n",
    "   usage_data.cloud = pricing_data.cloud and\n",
    "   usage_data.sku_name = pricing_data.sku_name and\n",
    "   usage_data.usage_start_time >= pricing_data.price_start_time and\n",
    "   (usage_data.usage_end_time <= pricing_data.price_end_time or pricing_data.price_end_time is null)\n",
    "WHERE\n",
    "   usage_data.sku_name LIKE '%SERVERLESS%'\n",
    "   AND usage_data.billing_origin_product IN (\"JOBS\", \"INTERACTIVE\")\n",
    "   AND usage_data.usage_date >= CURRENT_DATE() - INTERVAL 30 DAYS\n",
    "GROUP BY\n",
    "   usage_data.identity_metadata.run_as\n",
    "ORDER BY\n",
    "   effective_cost DESC;"
   ]
  },
  {
   "cell_type": "code",
   "execution_count": 0,
   "metadata": {
    "application/vnd.databricks.v1+cell": {
     "cellMetadata": {
      "byteLimit": 2048000,
      "implicitDf": true,
      "rowLimit": 10000
     },
     "inputWidgets": {},
     "nuid": "529f89f1-494e-461d-8e4d-a7638b436e06",
     "showTitle": false,
     "tableResultSettingsMap": {},
     "title": ""
    }
   },
   "outputs": [],
   "source": [
    "%sql\n",
    "-- Alert: Job spend exceeding threshold in last 30 days\n",
    "CREATE MATERIALIZED VIEW job_spend_alerts AS\n",
    "SELECT\n",
    "   usage_data.workspace_id,\n",
    "   usage_data.usage_metadata.job_id,\n",
    "   SUM(usage_data.usage_quantity * pricing_data.pricing.default) as list_cost,\n",
    "   SUM(usage_data.usage_quantity * pricing_data.pricing.effective_list.default) as effective_cost\n",
    "FROM system.billing.usage usage_data\n",
    "INNER JOIN system.billing.list_prices pricing_data on\n",
    "   usage_data.cloud = pricing_data.cloud and\n",
    "   usage_data.sku_name = pricing_data.sku_name and\n",
    "   usage_data.usage_start_time >= pricing_data.price_start_time and\n",
    "   (usage_data.usage_end_time <= pricing_data.price_end_time or pricing_data.price_end_time is null)\n",
    "WHERE\n",
    "   usage_data.sku_name LIKE '%SERVERLESS%'\n",
    "   AND usage_data.billing_origin_product IN (\"JOBS\")\n",
    "   AND usage_data.usage_date >= CURRENT_DATE() - INTERVAL 30 DAYS\n",
    "GROUP BY\n",
    "   usage_data.workspace_id, usage_data.usage_metadata.job_id\n",
    "ORDER BY\n",
    "   effective_cost DESC;"
   ]
  },
  {
   "cell_type": "code",
   "execution_count": 0,
   "metadata": {
    "application/vnd.databricks.v1+cell": {
     "cellMetadata": {
      "byteLimit": 2048000,
      "implicitDf": true,
      "rowLimit": 10000
     },
     "inputWidgets": {},
     "nuid": "30754c62-47da-4881-8313-baf6f8771eb3",
     "showTitle": false,
     "tableResultSettingsMap": {},
     "title": ""
    }
   },
   "outputs": [],
   "source": [
    "%sql\n",
    "-- Serverless notebooks sorted by total spend\n",
    "CREATE MATERIALIZED VIEW serverless_notebook_spend AS\n",
    "SELECT\n",
    "  usage_data.usage_metadata.notebook_id,\n",
    "  usage_data.usage_metadata.notebook_path,\n",
    "  usage_data.identity_metadata.run_as,\n",
    "  SUM(usage_data.usage_quantity) as total_dbu,\n",
    "  SUM(usage_data.usage_quantity * pricing_data.pricing.default) as list_cost,\n",
    "  SUM(usage_data.usage_quantity * pricing_data.pricing.effective_list.default) as effective_cost\n",
    "FROM\n",
    "  system.billing.usage usage_data\n",
    "INNER JOIN system.billing.list_prices pricing_data on\n",
    "  usage_data.cloud = pricing_data.cloud and\n",
    "  usage_data.sku_name = pricing_data.sku_name and\n",
    "  usage_data.usage_start_time >= pricing_data.price_start_time and\n",
    "  (usage_data.usage_end_time <= pricing_data.price_end_time or pricing_data.price_end_time is null)\n",
    "WHERE\n",
    "  usage_data.usage_metadata.notebook_id is not null\n",
    "  and usage_data.billing_origin_product = 'INTERACTIVE'\n",
    "  and usage_data.product_features.is_serverless\n",
    "  and usage_data.usage_unit = 'DBU'\n",
    "  and usage_data.usage_date >= DATEADD(day, -30, current_date)\n",
    "GROUP BY\n",
    "  usage_data.usage_metadata.notebook_id,\n",
    "  usage_data.usage_metadata.notebook_path,\n",
    "  usage_data.identity_metadata.run_as\n",
    "ORDER BY\n",
    "  effective_cost DESC;"
   ]
  },
  {
   "cell_type": "code",
   "execution_count": 0,
   "metadata": {
    "application/vnd.databricks.v1+cell": {
     "cellMetadata": {
      "byteLimit": 2048000,
      "implicitDf": true,
      "rowLimit": 10000
     },
     "inputWidgets": {},
     "nuid": "06dbd3a5-510d-401a-9c71-8cce430c9418",
     "showTitle": false,
     "tableResultSettingsMap": {},
     "title": ""
    }
   },
   "outputs": [],
   "source": [
    "%sql\n",
    "-- Serverless jobs sorted by total spend\n",
    "CREATE MATERIALIZED VIEW serverless_job_spend AS\n",
    "SELECT\n",
    "  usage_data.usage_metadata.job_id,\n",
    "  usage_data.usage_metadata.job_name,\n",
    "  SUM(usage_data.usage_quantity) as total_dbu,\n",
    "  SUM(usage_data.usage_quantity * pricing_data.pricing.default) as list_cost,\n",
    "  SUM(usage_data.usage_quantity * pricing_data.pricing.effective_list.default) as effective_cost\n",
    "FROM\n",
    "  system.billing.usage usage_data\n",
    "INNER JOIN system.billing.list_prices pricing_data on\n",
    "  usage_data.cloud = pricing_data.cloud and\n",
    "  usage_data.sku_name = pricing_data.sku_name and\n",
    "  usage_data.usage_start_time >= pricing_data.price_start_time and\n",
    "  (usage_data.usage_end_time <= pricing_data.price_end_time or pricing_data.price_end_time is null)\n",
    "WHERE\n",
    "  usage_data.usage_metadata.job_id is not null\n",
    "  and usage_data.usage_unit = 'DBU'\n",
    "  and usage_data.usage_date >= DATEADD(day, -30, current_date)\n",
    "  and usage_data.sku_name like '%JOBS_SERVERLESS_COMPUTE%'\n",
    "GROUP BY\n",
    "  usage_data.usage_metadata.job_id,\n",
    "  usage_data.usage_metadata.job_name\n",
    "ORDER BY\n",
    "  effective_cost DESC;"
   ]
  },
  {
   "cell_type": "code",
   "execution_count": 0,
   "metadata": {
    "application/vnd.databricks.v1+cell": {
     "cellMetadata": {
      "byteLimit": 2048000,
      "implicitDf": true,
      "rowLimit": 10000
     },
     "inputWidgets": {},
     "nuid": "64550fa8-a3e4-49a7-b220-7bca4a2ff62a",
     "showTitle": false,
     "tableResultSettingsMap": {},
     "title": ""
    }
   },
   "outputs": [],
   "source": [
    "%sql\n",
    "-- Cost consumed by specific user across notebooks and jobs\n",
    "CREATE MATERIALIZED VIEW user_serverless_consumption AS\n",
    "SELECT\n",
    "  usage_data.usage_metadata.job_id,\n",
    "  usage_data.usage_metadata.job_name,\n",
    "  usage_data.usage_metadata.notebook_id,\n",
    "  usage_data.usage_metadata.notebook_path,\n",
    "  usage_data.identity_metadata.run_as,\n",
    "  SUM(usage_data.usage_quantity) as total_dbu,\n",
    "  SUM(usage_data.usage_quantity * pricing_data.pricing.default) as list_cost,\n",
    "  SUM(usage_data.usage_quantity * pricing_data.pricing.effective_list.default) as effective_cost\n",
    "FROM\n",
    "  system.billing.usage usage_data\n",
    "INNER JOIN system.billing.list_prices pricing_data on\n",
    "  usage_data.cloud = pricing_data.cloud and\n",
    "  usage_data.sku_name = pricing_data.sku_name and\n",
    "  usage_data.usage_start_time >= pricing_data.price_start_time and\n",
    "  (usage_data.usage_end_time <= pricing_data.price_end_time or pricing_data.price_end_time is null)\n",
    "WHERE\n",
    "  usage_data.billing_origin_product in ('JOBS','INTERACTIVE')\n",
    "  and usage_data.product_features.is_serverless\n",
    "  and usage_data.usage_unit = 'DBU'\n",
    "  and usage_data.usage_date >= DATEADD(day, -30, current_date)\n",
    "GROUP BY\n",
    "  ALL\n",
    "ORDER BY\n",
    "  effective_cost DESC;"
   ]
  },
  {
   "cell_type": "code",
   "execution_count": 0,
   "metadata": {
    "application/vnd.databricks.v1+cell": {
     "cellMetadata": {
      "byteLimit": 2048000,
      "implicitDf": true,
      "rowLimit": 10000
     },
     "inputWidgets": {},
     "nuid": "31e59b9c-2cdf-4052-bd81-260aef39066c",
     "showTitle": false,
     "tableResultSettingsMap": {},
     "title": ""
    }
   },
   "outputs": [],
   "source": [
    "%sql\n",
    "-- Serverless compute cost by custom tag\n",
    "CREATE MATERIALIZED VIEW serverless_consumption_by_tag AS\n",
    "SELECT\n",
    "  usage_data.usage_metadata.job_id,\n",
    "  usage_data.usage_metadata.job_name,\n",
    "  usage_data.usage_metadata.notebook_id,\n",
    "  usage_data.usage_metadata.notebook_path,\n",
    "  usage_data.custom_tags,\n",
    "  SUM(usage_data.usage_quantity) as total_dbu,\n",
    "  SUM(usage_data.usage_quantity * pricing_data.pricing.default) as list_cost,\n",
    "  SUM(usage_data.usage_quantity * pricing_data.pricing.effective_list.default) as effective_cost\n",
    "FROM\n",
    "  system.billing.usage usage_data\n",
    "INNER JOIN system.billing.list_prices pricing_data on\n",
    "  usage_data.cloud = pricing_data.cloud and\n",
    "  usage_data.sku_name = pricing_data.sku_name and\n",
    "  usage_data.usage_start_time >= pricing_data.price_start_time and\n",
    "  (usage_data.usage_end_time <= pricing_data.price_end_time or pricing_data.price_end_time is null)\n",
    "WHERE\n",
    "  usage_data.billing_origin_product in ('JOBS','INTERACTIVE')\n",
    "  and usage_data.product_features.is_serverless\n",
    "  and usage_data.usage_unit = 'DBU'\n",
    "  and usage_data.usage_date >= DATEADD(day, -30, current_date)\n",
    "GROUP BY\n",
    "  ALL\n",
    "ORDER BY\n",
    "  effective_cost DESC;"
   ]
  }
 ],
 "metadata": {
  "application/vnd.databricks.v1+notebook": {
   "computePreferences": null,
   "dashboards": [],
   "environmentMetadata": {
    "base_environment": "",
    "environment_version": "3"
   },
   "inputWidgetPreferences": null,
   "language": "python",
   "notebookMetadata": {
    "mostRecentlyExecutedCommandWithImplicitDF": {
     "commandId": 8034707614283533,
     "dataframes": [
      "_sqldf"
     ]
    },
    "pythonIndentUnit": 2
   },
   "notebookName": "create_serverless_user_analytics_mvws",
   "widgets": {}
  },
  "language_info": {
   "name": "python"
  }
 },
 "nbformat": 4,
 "nbformat_minor": 0
}
