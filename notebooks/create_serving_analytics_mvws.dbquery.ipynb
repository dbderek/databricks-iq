{
 "cells": [
  {
   "cell_type": "code",
   "execution_count": 0,
   "metadata": {
    "application/vnd.databricks.v1+cell": {
     "cellMetadata": {},
     "inputWidgets": {},
     "nuid": "001e3285-6468-4b0a-afaa-52b628664a20",
     "showTitle": false,
     "tableResultSettingsMap": {},
     "title": ""
    }
   },
   "outputs": [],
   "source": [
    "-- Model Serving Monitoring\n",
    "-- Based on Databricks documentation for tracking model serving spend\n",
    "\n",
    "--------------------------------------------------\n",
    "-- Model serving costs for the past 30 days\n",
    "--------------------------------------------------\n",
    "CREATE MATERIALIZED VIEW IDENTIFIER(:catalog || '.' || :schema || '.model_serving_costs')\n",
    "SCHEDULE EVERY 4 HOURS\n",
    "AS\n",
    "SELECT\n",
    "  usage_data.workspace_id,\n",
    "  served_entities.endpoint_name,\n",
    "  served_entities.endpoint_id,\n",
    "  served_entities.created_by,\n",
    "  served_entities.served_entity_name,\n",
    "  served_entities.entity_type,\n",
    "  served_entities.custom_model_config,\n",
    "  served_entities.external_model_config,\n",
    "  max(usage_data.usage_date) AS last_usage_date,\n",
    "  FIRST(usage_data.custom_tags) AS custom_tags,\n",
    "  SUM(usage_data.usage_quantity * pricing_data.pricing.default) as total_list_cost,\n",
    "  SUM(usage_data.usage_quantity * pricing_data.pricing.effective_list.default) as total_effective_cost,\n",
    "  SUM(CASE WHEN usage_data.usage_date >= date_sub(current_date(), 7) THEN usage_data.usage_quantity * pricing_data.pricing.default ELSE 0 END) AS t7d_list_cost,\n",
    "  SUM(CASE WHEN usage_data.usage_date >= date_sub(current_date(), 7) THEN usage_data.usage_quantity * pricing_data.pricing.effective_list.default ELSE 0 END) AS t7d_effective_cost,\n",
    "  SUM(CASE WHEN usage_data.usage_date >= date_sub(current_date(), 14) THEN usage_data.usage_quantity * pricing_data.pricing.default ELSE 0 END) AS t14d_list_cost,\n",
    "  SUM(CASE WHEN usage_data.usage_date >= date_sub(current_date(), 14) THEN usage_data.usage_quantity * pricing_data.pricing.effective_list.default ELSE 0 END) AS t14d_effective_cost,\n",
    "  SUM(CASE WHEN usage_data.usage_date >= date_sub(current_date(), 30) THEN usage_data.usage_quantity * pricing_data.pricing.default ELSE 0 END) AS t30d_list_cost,\n",
    "  SUM(CASE WHEN usage_data.usage_date >= date_sub(current_date(), 30) THEN usage_data.usage_quantity * pricing_data.pricing.effective_list.default ELSE 0 END) AS t30d_effective_cost\n",
    "FROM\n",
    "  system.billing.usage usage_data\n",
    "    INNER JOIN system.serving.served_entities served_entities\n",
    "      ON usage_data.usage_metadata.endpoint_name = served_entities.endpoint_name\n",
    "      AND usage_data.account_id = served_entities.account_id\n",
    "    INNER JOIN system.billing.list_prices pricing_data\n",
    "      ON usage_data.sku_name = pricing_data.sku_name\n",
    "      AND usage_data.cloud = pricing_data.cloud\n",
    "      AND usage_data.usage_unit = pricing_data.usage_unit\n",
    "      AND usage_data.account_id = pricing_data.account_id\n",
    "      AND usage_data.usage_start_time >= pricing_data.price_start_time\n",
    "      AND (\n",
    "        pricing_data.price_end_time IS NULL\n",
    "        OR usage_data.usage_start_time < pricing_data.price_end_time\n",
    "      )\n",
    "WHERE\n",
    "  usage_data.sku_name LIKE '%SERVERLESS_REAL_TIME_INFERENCE%'\n",
    "  AND usage_data.usage_quantity IS NOT NULL\n",
    "  AND pricing_data.pricing.effective_list.default IS NOT NULL\n",
    "  AND served_entities.endpoint_name IS NOT NULL\n",
    "  AND usage_data.usage_date >= CURRENT_DATE() - INTERVAL 30 DAY\n",
    "GROUP BY ALL\n",
    "ORDER BY\n",
    "  total_effective_cost DESC;\n",
    "\n",
    "--------------------------------------------------\n",
    "-- Batch inference costs for the past 30 days\n",
    "--------------------------------------------------\n",
    "CREATE MATERIALIZED VIEW IDENTIFIER(:catalog || '.' || :schema || '.batch_inference_costs')\n",
    "SCHEDULE EVERY 4 HOURS\n",
    "AS\n",
    "SELECT\n",
    "  usage_data.workspace_id,\n",
    "  usage_data.usage_date,\n",
    "  usage_data.identity_metadata.run_as AS run_as,\n",
    "  usage_data.custom_tags,\n",
    "  usage_data.usage_metadata.endpoint_name,\n",
    "  SUM(usage_data.usage_quantity * pricing_data.pricing.default) AS total_list_cost,\n",
    "  SUM(usage_data.usage_quantity * pricing_data.pricing.effective_list.default) AS total_effective_cost\n",
    "FROM\n",
    "  system.billing.usage usage_data\n",
    "    INNER JOIN system.billing.list_prices pricing_data\n",
    "      ON usage_data.sku_name = pricing_data.sku_name\n",
    "      AND usage_data.cloud = pricing_data.cloud\n",
    "      AND usage_data.usage_unit = pricing_data.usage_unit\n",
    "      AND usage_data.account_id = pricing_data.account_id\n",
    "      AND usage_data.usage_start_time >= pricing_data.price_start_time\n",
    "      AND (\n",
    "        pricing_data.price_end_time IS NULL\n",
    "        OR usage_data.usage_start_time < pricing_data.price_end_time\n",
    "      )\n",
    "WHERE\n",
    "  usage_data.billing_origin_product = 'MODEL_SERVING'\n",
    "  AND usage_data.product_features.model_serving.offering_type = 'BATCH_INFERENCE'\n",
    "  AND usage_data.usage_date >= CURRENT_DATE() - INTERVAL 30 DAY\n",
    "GROUP BY ALL\n",
    "ORDER BY\n",
    "  total_effective_cost DESC;"
   ]
  }
 ],
 "metadata": {
  "application/vnd.databricks.v1+notebook": {
   "computePreferences": null,
   "dashboards": [],
   "environmentMetadata": null,
   "inputWidgetPreferences": null,
   "language": "sql",
   "notebookMetadata": {
    "pythonIndentUnit": 2,
    "sqlQueryOptions": {
     "applyAutoLimit": true,
     "catalog": "main",
     "schema": "default"
    }
   },
   "notebookName": "create_serving_analytics_mvws.dbquery.ipynb",
   "widgets": {
    "catalog": {
     "currentValue": "",
     "nuid": "0efea3ac-049b-4864-bdf9-8dead86af55e",
     "typedWidgetInfo": {
      "autoCreated": true,
      "defaultValue": "",
      "label": null,
      "name": "catalog",
      "options": {
       "widgetDisplayType": "Text",
       "validationRegex": null
      },
      "parameterDataType": "String"
     },
     "widgetInfo": {
      "widgetType": "text",
      "defaultValue": "",
      "label": null,
      "name": "catalog",
      "options": {
       "widgetType": "text",
       "autoCreated": true,
       "validationRegex": null
      }
     }
    },
    "schema": {
     "currentValue": "",
     "nuid": "67d97068-ac68-4e58-834d-d7f46e2a38a3",
     "typedWidgetInfo": {
      "autoCreated": true,
      "defaultValue": "",
      "label": null,
      "name": "schema",
      "options": {
       "widgetDisplayType": "Text",
       "validationRegex": null
      },
      "parameterDataType": "String"
     },
     "widgetInfo": {
      "widgetType": "text",
      "defaultValue": "",
      "label": null,
      "name": "schema",
      "options": {
       "widgetType": "text",
       "autoCreated": true,
       "validationRegex": null
      }
     }
    }
   }
  },
  "language_info": {
   "name": "sql"
  }
 },
 "nbformat": 4,
 "nbformat_minor": 0
}
