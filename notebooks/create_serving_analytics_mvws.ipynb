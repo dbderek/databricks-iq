{
 "cells": [
  {
   "cell_type": "markdown",
   "metadata": {
    "application/vnd.databricks.v1+cell": {
     "cellMetadata": {},
     "inputWidgets": {},
     "nuid": "504a969b-87c1-4e35-8ff0-22e62b1034b9",
     "showTitle": false,
     "tableResultSettingsMap": {},
     "title": ""
    }
   },
   "source": [
    "### Model Serving Monitoring\n",
    "#### Based on Databricks documentation for tracking model serving spend"
   ]
  },
  {
   "cell_type": "code",
   "execution_count": 0,
   "metadata": {
    "application/vnd.databricks.v1+cell": {
     "cellMetadata": {
      "byteLimit": 2048000,
      "implicitDf": true,
      "rowLimit": 10000
     },
     "inputWidgets": {},
     "nuid": "59341cc6-3611-4937-a148-00953b907649",
     "showTitle": false,
     "tableResultSettingsMap": {},
     "title": ""
    }
   },
   "outputs": [],
   "source": [
    "%sql\n",
    "-- Model serving costs for the past 30 days\n",
    "CREATE OR REPLACE MATERIALIZED VIEW model_serving_costs AS\n",
    "SELECT\n",
    "  usage_data.workspace_id,\n",
    "  served_entities.endpoint_name,\n",
    "  served_entities.endpoint_id,\n",
    "  served_entities.created_by,\n",
    "  served_entities.served_entity_name,\n",
    "  served_entities.entity_type,\n",
    "  served_entities.custom_model_config,\n",
    "  served_entities.external_model_config,\n",
    "  max(usage_data.usage_date) AS last_usage_date,\n",
    "  FIRST(usage_data.custom_tags) AS custom_tags,\n",
    "  SUM(usage_data.usage_quantity * pricing_data.pricing.default) as total_list_cost,\n",
    "  SUM(usage_data.usage_quantity * pricing_data.pricing.effective_list.default) as total_effective_cost,\n",
    "  SUM(CASE WHEN usage_data.usage_date >= date_sub(current_date(), 7) THEN usage_data.usage_quantity * pricing_data.pricing.default ELSE 0 END) AS t7d_list_cost,\n",
    "  SUM(CASE WHEN usage_data.usage_date >= date_sub(current_date(), 7) THEN usage_data.usage_quantity * pricing_data.pricing.effective_list.default ELSE 0 END) AS t7d_effective_cost,\n",
    "  SUM(CASE WHEN usage_data.usage_date >= date_sub(current_date(), 14) THEN usage_data.usage_quantity * pricing_data.pricing.default ELSE 0 END) AS t14d_list_cost,\n",
    "  SUM(CASE WHEN usage_data.usage_date >= date_sub(current_date(), 14) THEN usage_data.usage_quantity * pricing_data.pricing.effective_list.default ELSE 0 END) AS t14d_effective_cost,\n",
    "  SUM(CASE WHEN usage_data.usage_date >= date_sub(current_date(), 30) THEN usage_data.usage_quantity * pricing_data.pricing.default ELSE 0 END) AS t30d_list_cost,\n",
    "  SUM(CASE WHEN usage_data.usage_date >= date_sub(current_date(), 30) THEN usage_data.usage_quantity * pricing_data.pricing.effective_list.default ELSE 0 END) AS t30d_effective_cost\n",
    "FROM\n",
    "  system.billing.usage usage_data\n",
    "    INNER JOIN system.serving.served_entities served_entities\n",
    "      ON usage_data.usage_metadata.endpoint_name = served_entities.endpoint_name\n",
    "      AND usage_data.account_id = served_entities.account_id\n",
    "    INNER JOIN system.billing.list_prices pricing_data\n",
    "      ON usage_data.sku_name = pricing_data.sku_name\n",
    "      AND usage_data.cloud = pricing_data.cloud\n",
    "      AND usage_data.usage_unit = pricing_data.usage_unit\n",
    "      AND usage_data.account_id = pricing_data.account_id\n",
    "      AND usage_data.usage_start_time >= pricing_data.price_start_time\n",
    "      AND (\n",
    "        pricing_data.price_end_time IS NULL\n",
    "        OR usage_data.usage_start_time < pricing_data.price_end_time\n",
    "      )\n",
    "WHERE\n",
    "  usage_data.sku_name LIKE '%SERVERLESS_REAL_TIME_INFERENCE%'\n",
    "  AND usage_data.usage_quantity IS NOT NULL\n",
    "  AND pricing_data.pricing.effective_list.default IS NOT NULL\n",
    "  AND served_entities.endpoint_name IS NOT NULL\n",
    "  AND usage_data.usage_date >= CURRENT_DATE() - INTERVAL 30 DAY\n",
    "GROUP BY ALL\n",
    "ORDER BY\n",
    "  total_effective_cost DESC;"
   ]
  },
  {
   "cell_type": "code",
   "execution_count": 0,
   "metadata": {
    "application/vnd.databricks.v1+cell": {
     "cellMetadata": {
      "byteLimit": 2048000,
      "implicitDf": true,
      "rowLimit": 10000
     },
     "inputWidgets": {},
     "nuid": "3dadb12c-1d88-49a5-b1ff-d79d31eb331a",
     "showTitle": false,
     "tableResultSettingsMap": {},
     "title": ""
    }
   },
   "outputs": [],
   "source": [
    "%sql\n",
    "-- Batch inference costs for the past 30 days\n",
    "CREATE OR REPLACE MATERIALIZED VIEW batch_inference_costs AS\n",
    "SELECT\n",
    "  usage_data.workspace_id,\n",
    "  usage_data.usage_date,\n",
    "  usage_data.identity_metadata.run_as AS run_as,\n",
    "  usage_data.custom_tags,\n",
    "  usage_data.usage_metadata.endpoint_name,\n",
    "  SUM(usage_data.usage_quantity * pricing_data.pricing.default) AS total_list_cost,\n",
    "  SUM(usage_data.usage_quantity * pricing_data.pricing.effective_list.default) AS total_effective_cost\n",
    "FROM\n",
    "  system.billing.usage usage_data\n",
    "    INNER JOIN system.billing.list_prices pricing_data\n",
    "      ON usage_data.sku_name = pricing_data.sku_name\n",
    "      AND usage_data.cloud = pricing_data.cloud\n",
    "      AND usage_data.usage_unit = pricing_data.usage_unit\n",
    "      AND usage_data.account_id = pricing_data.account_id\n",
    "      AND usage_data.usage_start_time >= pricing_data.price_start_time\n",
    "      AND (\n",
    "        pricing_data.price_end_time IS NULL\n",
    "        OR usage_data.usage_start_time < pricing_data.price_end_time\n",
    "      )\n",
    "WHERE\n",
    "  usage_data.billing_origin_product = 'MODEL_SERVING'\n",
    "  AND usage_data.product_features.model_serving.offering_type = 'BATCH_INFERENCE'\n",
    "  AND usage_data.usage_date >= CURRENT_DATE() - INTERVAL 30 DAY\n",
    "GROUP BY ALL\n",
    "ORDER BY\n",
    "  total_effective_cost DESC;"
   ]
  }
 ],
 "metadata": {
  "application/vnd.databricks.v1+notebook": {
   "computePreferences": null,
   "dashboards": [],
   "environmentMetadata": {
    "base_environment": "",
    "environment_version": "3"
   },
   "inputWidgetPreferences": null,
   "language": "python",
   "notebookMetadata": {
    "mostRecentlyExecutedCommandWithImplicitDF": {
     "commandId": 8034707614283549,
     "dataframes": [
      "_sqldf"
     ]
    },
    "pythonIndentUnit": 2
   },
   "notebookName": "create_serving_analytics_mvws",
   "widgets": {}
  },
  "language_info": {
   "name": "python"
  }
 },
 "nbformat": 4,
 "nbformat_minor": 0
}
